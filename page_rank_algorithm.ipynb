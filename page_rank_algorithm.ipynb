{
  "nbformat": 4,
  "nbformat_minor": 0,
  "metadata": {
    "colab": {
      "provenance": []
    },
    "kernelspec": {
      "name": "python3",
      "display_name": "Python 3"
    },
    "language_info": {
      "name": "python"
    }
  },
  "cells": [
    {
      "cell_type": "markdown",
      "source": [
        "# Information retrieval\n",
        "\n",
        "## Home Work #5\n",
        "\n",
        "## Page Rank Alogrithm\n",
        "### Group 1\n",
        "#### Ali Mojahed - 9812762554\n",
        "#### Mehrnoosh Navidimehr - 9822762119\n",
        "#### Minoo Mohaghegh - 9812762270\n",
        "#### Helia Ghahraman - 9822762437\n"
      ],
      "metadata": {
        "id": "SBINqYlLCZL5"
      }
    },
    {
      "cell_type": "code",
      "source": [
        "import numpy as np\n",
        "\n",
        "# read data from file\n",
        "with open('/content/input.txt', 'r') as f:\n",
        "  data = f.read().rstrip('\\n')\n",
        "  data = data.split('\\n#\\n')\n",
        "\n",
        "n_graphs = int(data[0])\n",
        "graphs = []\n",
        "\n",
        "for i in range(n_graphs):\n",
        "  graph = [line.split(' ') for line in data[i+1].split('\\n')]\n",
        "  g = [list(map(int, j)) for j in graph]\n",
        "  graphs.append(np.array(g))"
      ],
      "metadata": {
        "id": "JqdteBdqbqTw"
      },
      "execution_count": null,
      "outputs": []
    },
    {
      "cell_type": "code",
      "source": [
        "# returns the rank of page p\n",
        "def page_rank(graph, p):\n",
        "  d = 0.15\n",
        "  n_page = graph.shape[0]\n",
        "  p_rank = 0\n",
        "\n",
        "  for i in range(n_page):\n",
        "    # check if page i has a link to page p\n",
        "    if(graph[i][p]):\n",
        "      # number of links from page i to other pages\n",
        "      n_links = 0\n",
        "\n",
        "      for j in range(n_page):\n",
        "        # check if page i has a link to page j\n",
        "        if (graph[i][j]):\n",
        "          n_links += 1\n",
        "\n",
        "      p_rank += ranks[i]/n_links\n",
        "\n",
        "  p_rank = (1-d)/n_page + d*p_rank\n",
        "  return p_rank"
      ],
      "metadata": {
        "id": "u_AdM--TckRq"
      },
      "execution_count": null,
      "outputs": []
    },
    {
      "cell_type": "code",
      "source": [
        "# first approach of updating pageranks\n",
        "#######################################\n",
        "\n",
        "n_iteration = 10\n",
        "\n",
        "with open('/content/output.txt', 'w') as file:\n",
        "  for i in range(n_graphs):\n",
        "    print(i+1)\n",
        "    file.write(f\"{i+1}\\n\")\n",
        "\n",
        "    n_page = graphs[i].shape[0]\n",
        "    # initialize the ranks\n",
        "    ranks = np.ones(n_page)\n",
        "\n",
        "    for j in range(n_iteration):\n",
        "      print(ranks)\n",
        "      file.writelines(f\"{ranks}\\n\")\n",
        "\n",
        "      new_ranks = []\n",
        "      for k in range (n_page):\n",
        "        new_ranks.append(page_rank(graphs[i], k))\n",
        "\n",
        "      # update ranks after each iteration\n",
        "      ranks = new_ranks"
      ],
      "metadata": {
        "colab": {
          "base_uri": "https://localhost:8080/"
        },
        "id": "fnZDhG4u7_qm",
        "outputId": "3dc0da06-da72-491f-d22d-d773855a2ecf"
      },
      "execution_count": null,
      "outputs": [
        {
          "output_type": "stream",
          "name": "stdout",
          "text": [
            "1\n",
            "[1. 1. 1. 1. 1.]\n",
            "[0.295, 0.295, 0.39499999999999996, 0.44499999999999995, 0.16999999999999998]\n",
            "[0.20249999999999999, 0.21187499999999998, 0.25887499999999997, 0.24674999999999997, 0.16999999999999998]\n",
            "[0.19569374999999997, 0.19813124999999998, 0.22219999999999998, 0.22747499999999998, 0.16999999999999998]\n",
            "[0.19385999999999998, 0.19578703124999997, 0.21879828124999998, 0.22357968749999999, 0.16999999999999998]\n",
            "[0.19368991406249997, 0.19547941406249997, 0.21807645312499999, 0.22305796874999997, 0.16999999999999998]\n",
            "[0.19365382265624997, 0.1954305662109375, 0.21798543886718746, 0.22297573476562496, 0.16999999999999998]\n",
            "[0.19364927194335935, 0.19542330864257812, 0.21797039691406248, 0.22296385687499998, 0.16999999999999998]\n",
            "[0.1936485198457031, 0.19542221524145506, 0.21796827392700194, 0.22296201614208982, 0.16999999999999998]\n",
            "[0.19364841369635008, 0.1954220526847778, 0.21796794140974118, 0.22296174598256835, 0.16999999999999998]\n",
            "2\n",
            "[1. 1. 1.]\n",
            "[0.43333333333333335, 0.35833333333333334, 0.5083333333333333]\n",
            "[0.3595833333333333, 0.3158333333333333, 0.3695833333333333]\n",
            "[0.3387708333333333, 0.3103020833333333, 0.3576770833333333]\n",
            "[0.3369848958333333, 0.30874114583333334, 0.35528645833333333]\n",
            "[0.33662630208333333, 0.30860720052083335, 0.35491837239583335]\n",
            "[0.33657108919270834, 0.3085803059895833, 0.3548713860677083]\n",
            "[0.3365640412434896, 0.30857616502278645, 0.35486321092122397]\n",
            "[0.3365628149715169, 0.308575636426595, 0.354862061180013]\n",
            "[0.3365626425103353, 0.3085755444561971, 0.35486188992018636]\n"
          ]
        }
      ]
    },
    {
      "cell_type": "code",
      "source": [
        "# second approach of updating pageranks\n",
        "########################################\n",
        "\n",
        "for i in range(n_graphs):\n",
        "  print(i+1)\n",
        "\n",
        "  n_page = graphs[i].shape[0]\n",
        "  # initialize the ranks\n",
        "  ranks = np.ones(n_page)\n",
        "\n",
        "  for j in range(n_iteration):\n",
        "    print(ranks)\n",
        "\n",
        "    for k in range (n_page):\n",
        "      # update ranks after computing the rank of each page\n",
        "      ranks[k] = page_rank(graphs[i], k)"
      ],
      "metadata": {
        "colab": {
          "base_uri": "https://localhost:8080/"
        },
        "id": "dlTKjHraaE-k",
        "outputId": "951fa994-9e24-494d-9955-eacd03611b05"
      },
      "execution_count": null,
      "outputs": [
        {
          "output_type": "stream",
          "name": "stdout",
          "text": [
            "1\n",
            "[1. 1. 1. 1. 1.]\n",
            "[0.295    0.242125 0.342125 0.298425 0.17    ]\n",
            "[0.19985625 0.20209547 0.22975297 0.22455197 0.17      ]\n",
            "[0.19423765 0.19605547 0.21825062 0.22307085 0.17      ]\n",
            "[0.19366253 0.19543722 0.21798532 0.22296485 0.17      ]\n",
            "[0.19364927 0.19542296 0.21796842 0.22296187 0.17      ]\n",
            "[0.19364842 0.19542205 0.21796791 0.2229617  0.17      ]\n",
            "[0.1936484  0.19542203 0.21796789 0.2229617  0.17      ]\n",
            "[0.19364839 0.19542202 0.21796788 0.2229617  0.17      ]\n",
            "[0.19364839 0.19542202 0.21796788 0.2229617  0.17      ]\n",
            "2\n",
            "[1. 1. 1.]\n",
            "[0.43333333 0.31583333 0.36320833]\n",
            "[0.33781458 0.30866943 0.35496984]\n",
            "[0.33657881 0.30857674 0.35486326]\n",
            "[0.33656282 0.30857554 0.35486188]\n",
            "[0.33656261 0.30857553 0.35486186]\n",
            "[0.33656261 0.30857553 0.35486186]\n",
            "[0.33656261 0.30857553 0.35486186]\n",
            "[0.33656261 0.30857553 0.35486186]\n",
            "[0.33656261 0.30857553 0.35486186]\n"
          ]
        }
      ]
    }
  ]
}